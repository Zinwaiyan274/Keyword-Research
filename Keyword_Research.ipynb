{
  "nbformat": 4,
  "nbformat_minor": 0,
  "metadata": {
    "colab": {
      "name": "Keyword Research.ipynb",
      "provenance": [],
      "collapsed_sections": [],
      "authorship_tag": "ABX9TyO8MuiZV5UIMJQfsYb3ouJz",
      "include_colab_link": true
    },
    "kernelspec": {
      "name": "python3",
      "display_name": "Python 3"
    },
    "language_info": {
      "name": "python"
    }
  },
  "cells": [
    {
      "cell_type": "markdown",
      "metadata": {
        "id": "view-in-github",
        "colab_type": "text"
      },
      "source": [
        "<a href=\"https://colab.research.google.com/github/Zinwaiyan274/Keyword-Research/blob/main/Keyword_Research.ipynb\" target=\"_parent\"><img src=\"https://colab.research.google.com/assets/colab-badge.svg\" alt=\"Open In Colab\"/></a>"
      ]
    },
    {
      "cell_type": "markdown",
      "source": [
        ""
      ],
      "metadata": {
        "id": "k0LFU7DoXBkV"
      }
    },
    {
      "cell_type": "code",
      "execution_count": null,
      "metadata": {
        "id": "aX2GgWERW6ev"
      },
      "outputs": [],
      "source": [
        "# !pip install pytrends\n",
        "import pandas as pd\n",
        "from pytrends.request import TrendReq\n",
        "import matplotlib.pyplot as plt\n",
        "trends = TrendReq()"
      ]
    },
    {
      "cell_type": "code",
      "source": [
        "trends.build_payload(kw_list=[\"Data Science\"])\n",
        "data = trends.interest_by_region()\n",
        "print(data.sample(10))"
      ],
      "metadata": {
        "colab": {
          "base_uri": "https://localhost:8080/"
        },
        "id": "740vXRvVXD9o",
        "outputId": "303b128a-351a-4999-f7d1-930a0e0b57fe"
      },
      "execution_count": null,
      "outputs": [
        {
          "output_type": "stream",
          "name": "stdout",
          "text": [
            "                        Data Science\n",
            "geoName                             \n",
            "Myanmar (Burma)                    0\n",
            "St. Barthélemy                     0\n",
            "Pakistan                          63\n",
            "British Virgin Islands             0\n",
            "Nepal                             62\n",
            "Libya                              0\n",
            "Togo                               0\n",
            "Brazil                            13\n",
            "Niger                              0\n",
            "Colombia                           8\n"
          ]
        }
      ]
    },
    {
      "cell_type": "code",
      "source": [
        "df = data.sample(15)\n",
        "df.reset_index().plot(x=\"geoName\", y=\"Data Science\", figsize=(120,16), kind=\"bar\")\n",
        "plt.show()"
      ],
      "metadata": {
        "id": "yW70nnszXEAF"
      },
      "execution_count": null,
      "outputs": []
    },
    {
      "cell_type": "code",
      "source": [
        "data = trends.trending_searches(pn=\"india\")\n",
        "print(data.head(10))"
      ],
      "metadata": {
        "colab": {
          "base_uri": "https://localhost:8080/"
        },
        "id": "7hiMEGYwXEEM",
        "outputId": "729068c4-3e6f-44e5-95d0-1e085a4bd4fe"
      },
      "execution_count": null,
      "outputs": [
        {
          "output_type": "stream",
          "name": "stdout",
          "text": [
            "                                     0\n",
            "0                            August 15\n",
            "1                  Salernitana vs Roma\n",
            "2          Liverpool vs Crystal Palace\n",
            "3  Aamir Khan movie Laal Singh Chaddha\n",
            "4                          Independent\n",
            "5                  Rakesh Jhunjhunwala\n",
            "6                            15 August\n",
            "7                 Chelsea vs Tottenham\n",
            "8                         Vinayak Mete\n",
            "9                            Barcelona\n"
          ]
        }
      ]
    },
    {
      "cell_type": "code",
      "source": [
        "keyword = trends.suggestions(keyword=\"Programming\")\n",
        "data = pd.DataFrame(keyword)\n",
        "print(data.head())"
      ],
      "metadata": {
        "colab": {
          "base_uri": "https://localhost:8080/"
        },
        "id": "cEXUMtiuXEIJ",
        "outputId": "d6644fa3-7630-4dbb-caa5-ebae88ceb21b"
      },
      "execution_count": null,
      "outputs": [
        {
          "output_type": "stream",
          "name": "stdout",
          "text": [
            "             mid                  title                  type\n",
            "0  /g/11b63bjb2c  Broadcast programming                 Topic\n",
            "1       /m/01t6b                      C  Programming language\n",
            "2     /m/025sbhf   Software development                 Topic\n",
            "3       /m/05z1_                 Python  Programming language\n",
            "4       /m/01mf_   Computer programming                 Topic\n"
          ]
        }
      ]
    }
  ]
}